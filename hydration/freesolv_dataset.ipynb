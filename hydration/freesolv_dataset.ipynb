{
 "cells": [
  {
   "cell_type": "markdown",
   "metadata": {},
   "source": [
    "# Freesolv"
   ]
  },
  {
   "cell_type": "markdown",
   "metadata": {},
   "source": [
    "In the interest of diagnosing problems in making MM --> ANI corrections, I will first focus effort on assessing the improvement of hydration free energy calculations from the Freesolv Dataset"
   ]
  },
  {
   "cell_type": "code",
   "execution_count": 1,
   "metadata": {},
   "outputs": [],
   "source": [
    "import os\n",
    "import numpy as np\n",
    "import pickle\n",
    "\n",
    "%matplotlib inline\n",
    "\n",
    "import matplotlib\n",
    "import matplotlib.pyplot as plt\n",
    "import seaborn as sns\n",
    "from scipy.stats import linregress\n",
    "\n",
    "SMALL_SIZE = 12\n",
    "MEDIUM_SIZE = 16\n",
    "BIGGER_SIZE = 24\n",
    "plt.rc('font', size=BIGGER_SIZE)          # controls default text sizes\\n\",\n",
    "plt.rc('axes', titlesize=BIGGER_SIZE)     # fontsize of the axes title\\n\",\n",
    "plt.rc('axes', labelsize=BIGGER_SIZE)    # fontsize of the x and y labels\\n\",\n",
    "plt.rc('xtick', labelsize=MEDIUM_SIZE)    # fontsize of the tick labels\\n\",\n",
    "plt.rc('ytick', labelsize=MEDIUM_SIZE)    # fontsize of the tick labels\\n\",\n",
    "plt.rc('legend', fontsize=MEDIUM_SIZE)    # legend fontsize\\n\",\n",
    "plt.rc('figure', titlesize=BIGGER_SIZE)  # fontsize of the figure title\"\n",
    "\n",
    "default_color_cycle = plt.rcParams['axes.prop_cycle'].by_key()['color']"
   ]
  },
  {
   "cell_type": "code",
   "execution_count": 3,
   "metadata": {},
   "outputs": [],
   "source": [
    "freesolv_data_str = os.path.join(os.getcwd(), 'database.txt')\n",
    "with open(freesolv_data_str, 'r') as f:\n",
    "    freesolv_data = f.read().splitlines()"
   ]
  },
  {
   "cell_type": "code",
   "execution_count": 4,
   "metadata": {},
   "outputs": [
    {
     "name": "stdout",
     "output_type": "stream",
     "text": [
      "[(0, '# compound id (and file prefix)'), (1, ' SMILES'), (2, ' iupac name (or alternative if IUPAC is unavailable or not parseable by OEChem)'), (3, ' experimental value (kcal/mol)'), (4, ' experimental uncertainty (kcal/mol)'), (5, ' Mobley group calculated value (GAFF) (kcal/mol)'), (6, ' calculated uncertainty (kcal/mol)'), (7, ' experimental reference (original or paper this value was taken from)'), (8, ' calculated reference'), (9, ' text notes.')]\n"
     ]
    }
   ],
   "source": [
    "freesolv_data_template = freesolv_data[2].split(';')\n",
    "print([(idx, k) for idx, k in enumerate(freesolv_data_template)])"
   ]
  },
  {
   "cell_type": "code",
   "execution_count": 5,
   "metadata": {},
   "outputs": [],
   "source": [
    "freesolv_dataset = [q.split(';') for q in freesolv_data[3:]]\n"
   ]
  },
  {
   "cell_type": "code",
   "execution_count": 6,
   "metadata": {},
   "outputs": [],
   "source": [
    "\n",
    "smiles, calc, exp, dcalc, dexp = [], [], [], [], []\n",
    "oemols = []\n",
    "for q in freesolv_dataset:\n",
    "    try:\n",
    "        exp.append(float(q[3]))\n",
    "        calc.append(float(q[5]))\n",
    "        dcalc.append(float(q[6]))\n",
    "        dexp.append(float(q[4]))\n",
    "        smiles.append(q[1])\n",
    "        #oemols.append(smiles_to_oemol(q[1]))\n",
    "    except Exception as e:\n",
    "        print(e)"
   ]
  },
  {
   "cell_type": "code",
   "execution_count": 7,
   "metadata": {},
   "outputs": [
    {
     "data": {
      "text/plain": [
       "Text(0, 0.5, 'calc [kcal/mol]')"
      ]
     },
     "execution_count": 7,
     "metadata": {},
     "output_type": "execute_result"
    },
    {
     "data": {
      "image/png": "[encoded data removed]",
      "text/plain": [
       "<Figure size 432x288 with 1 Axes>"
      ]
     },
     "metadata": {
      "needs_background": "light"
     },
     "output_type": "display_data"
    }
   ],
   "source": [
    "plt.errorbar(exp, calc, yerr=dcalc, xerr=dexp, ls = 'None')\n",
    "plt.xlabel(f\"exp [kcal/mol]\")\n",
    "plt.ylabel(f\"calc [kcal/mol]\")"
   ]
  },
  {
   "cell_type": "markdown",
   "metadata": {},
   "source": [
    "now we can compute residuals. the idea is that we want to plot the residuals, extract the molecules with the biggest residuals, and then extract those which have few rotamers..."
   ]
  },
  {
   "cell_type": "code",
   "execution_count": 8,
   "metadata": {},
   "outputs": [],
   "source": [
    "abs_residuals = abs(np.array(exp) - np.array(calc))"
   ]
  },
  {
   "cell_type": "code",
   "execution_count": 9,
   "metadata": {},
   "outputs": [
    {
     "data": {
      "text/plain": [
       "Text(0.5, 0, 'abs residual [kcal/mol]')"
      ]
     },
     "execution_count": 9,
     "metadata": {},
     "output_type": "execute_result"
    },
    {
     "data": {
      "image/png": "[encoded data removed]",
      "text/plain": [
       "<Figure size 432x288 with 1 Axes>"
      ]
     },
     "metadata": {
      "needs_background": "light"
     },
     "output_type": "display_data"
    }
   ],
   "source": [
    "sns.distplot(abs_residuals)\n",
    "plt.xlabel(f\"abs residual [kcal/mol]\")"
   ]
  },
  {
   "cell_type": "code",
   "execution_count": 10,
   "metadata": {},
   "outputs": [],
   "source": [
    "#extract the molecules with abs resid errors greater than 1.5 kcal/mol (arbitrary) and less than 5kcal/mol (arbitrary)\n",
    "interest_molecules = [(calc_i, exp_i, dcalc_i, dexp_i, smiles_i) \n",
    "                      for calc_i, exp_i, dcalc_i, dexp_i, smiles_i in zip(calc, exp, dcalc, dexp, smiles) \n",
    "                      if abs(calc_i - exp_i) > 1.4]"
   ]
  },
  {
   "cell_type": "code",
   "execution_count": 11,
   "metadata": {},
   "outputs": [
    {
     "name": "stderr",
     "output_type": "stream",
     "text": [
      "INFO:utils.openeye:molecule                       does not have unique atom names. Generating now...\n"
     ]
    }
   ],
   "source": [
    "#filter of molecule indices that have only CHNO atoms\n",
    "def has_only_CHNO(oemol):\n",
    "    \"\"\"\n",
    "    return bool if the molecule has only CHNO atoms \n",
    "    \"\"\"\n",
    "    import openeye as oechem\n",
    "    acceptable_atomic_numbers = [6, 1, 7, 8]\n",
    "    atomic_nums = [atom.GetAtomicNum() for atom in oemol.GetAtoms()]\n",
    "    if set(atomic_nums).issubset(set(acceptable_atomic_numbers)):\n",
    "        return True\n",
    "    else:\n",
    "        return False\n",
    "\n",
    "def has_le_N_rotatable_bonds(oemol, ceiling):\n",
    "    \"\"\"\n",
    "    return True if the molecule has less than or equal to ceiling rotatable bonds\n",
    "    \"\"\"\n",
    "    import openeye as oechem\n",
    "    num_rotatables = oechem.OEGetRotatableBondCount(oemol)\n",
    "    if num_rotatables <= ceiling:\n",
    "        return True\n",
    "    else:\n",
    "        return False\n",
    "\n",
    "def has_zero_net_charge(oemol):\n",
    "    \"\"\"\n",
    "    return True if the net charge is zero\n",
    "    \"\"\" \n",
    "    import openeye as oechem\n",
    "    net_charge = oechem.OENetCharge(oemol)\n",
    "    if net_charge == 0:\n",
    "        return True\n",
    "    else:\n",
    "        return False\n",
    "\n",
    "#OEGetRotatableBondCount\n",
    "from perses.utils.openeye import smiles_to_oemol\n",
    "q = smiles_to_oemol('CCCC')\n",
    "assert has_only_CHNO(q)\n",
    "assert has_le_N_rotatable_bonds(q, 3)\n",
    "assert has_zero_net_charge(q)\n",
    "\n"
   ]
  },
  {
   "cell_type": "code",
   "execution_count": 12,
   "metadata": {},
   "outputs": [
    {
     "name": "stderr",
     "output_type": "stream",
     "text": [
      "INFO:utils.openeye:molecule                       does not have unique atom names. Generating now...\n",
      "INFO:utils.openeye:molecule                       does not have unique atom names. Generating now...\n",
      "INFO:utils.openeye:molecule                       does not have unique atom names. Generating now...\n",
      "INFO:utils.openeye:molecule                       does not have unique atom names. Generating now...\n",
      "INFO:utils.openeye:molecule                       does not have unique atom names. Generating now...\n",
      "INFO:utils.openeye:molecule                       does not have unique atom names. Generating now...\n",
      "INFO:utils.openeye:molecule                       does not have unique atom names. Generating now...\n",
      "INFO:utils.openeye:molecule                       does not have unique atom names. Generating now...\n",
      "INFO:utils.openeye:molecule                       does not have unique atom names. Generating now...\n",
      "INFO:utils.openeye:molecule                       does not have unique atom names. Generating now...\n",
      "INFO:utils.openeye:molecule                       does not have unique atom names. Generating now...\n",
      "INFO:utils.openeye:molecule                       does not have unique atom names. Generating now...\n",
      "INFO:utils.openeye:molecule                       does not have unique atom names. Generating now...\n",
      "INFO:utils.openeye:molecule                       does not have unique atom names. Generating now...\n",
      "INFO:utils.openeye:molecule                       does not have unique atom names. Generating now...\n",
      "INFO:utils.openeye:molecule                       does not have unique atom names. Generating now...\n",
      "INFO:utils.openeye:molecule                       does not have unique atom names. Generating now...\n",
      "INFO:utils.openeye:molecule                       does not have unique atom names. Generating now...\n",
      "INFO:utils.openeye:molecule                       does not have unique atom names. Generating now...\n",
      "INFO:utils.openeye:molecule                       does not have unique atom names. Generating now...\n",
      "INFO:utils.openeye:molecule                       does not have unique atom names. Generating now...\n",
      "INFO:utils.openeye:molecule                       does not have unique atom names. Generating now...\n",
      "INFO:utils.openeye:molecule                       does not have unique atom names. Generating now...\n",
      "INFO:utils.openeye:molecule                       does not have unique atom names. Generating now...\n",
      "INFO:utils.openeye:molecule                       does not have unique atom names. Generating now...\n",
      "INFO:utils.openeye:molecule                       does not have unique atom names. Generating now...\n",
      "INFO:utils.openeye:molecule                       does not have unique atom names. Generating now...\n",
      "INFO:utils.openeye:molecule                       does not have unique atom names. Generating now...\n",
      "INFO:utils.openeye:molecule                       does not have unique atom names. Generating now...\n",
      "INFO:utils.openeye:molecule                       does not have unique atom names. Generating now...\n",
      "INFO:utils.openeye:molecule                       does not have unique atom names. Generating now...\n",
      "INFO:utils.openeye:molecule                       does not have unique atom names. Generating now...\n",
      "INFO:utils.openeye:molecule                       does not have unique atom names. Generating now...\n",
      "INFO:utils.openeye:molecule                       does not have unique atom names. Generating now...\n",
      "INFO:utils.openeye:molecule                       does not have unique atom names. Generating now...\n",
      "INFO:utils.openeye:molecule                       does not have unique atom names. Generating now...\n",
      "INFO:utils.openeye:molecule                       does not have unique atom names. Generating now...\n",
      "INFO:utils.openeye:molecule                       does not have unique atom names. Generating now...\n",
      "INFO:utils.openeye:molecule                       does not have unique atom names. Generating now...\n",
      "INFO:utils.openeye:molecule                       does not have unique atom names. Generating now...\n",
      "INFO:utils.openeye:molecule                       does not have unique atom names. Generating now...\n",
      "INFO:utils.openeye:molecule                       does not have unique atom names. Generating now...\n",
      "INFO:utils.openeye:molecule                       does not have unique atom names. Generating now...\n",
      "INFO:utils.openeye:molecule                       does not have unique atom names. Generating now...\n",
      "INFO:utils.openeye:molecule                       does not have unique atom names. Generating now...\n",
      "INFO:utils.openeye:molecule                       does not have unique atom names. Generating now...\n",
      "INFO:utils.openeye:molecule                       does not have unique atom names. Generating now...\n",
      "INFO:utils.openeye:molecule                       does not have unique atom names. Generating now...\n",
      "INFO:utils.openeye:molecule                       does not have unique atom names. Generating now...\n",
      "INFO:utils.openeye:molecule                       does not have unique atom names. Generating now...\n",
      "INFO:utils.openeye:molecule                       does not have unique atom names. Generating now...\n",
      "INFO:utils.openeye:molecule                       does not have unique atom names. Generating now...\n",
      "INFO:utils.openeye:molecule                       does not have unique atom names. Generating now...\n",
      "INFO:utils.openeye:molecule                       does not have unique atom names. Generating now...\n",
      "INFO:utils.openeye:molecule                       does not have unique atom names. Generating now...\n",
      "INFO:utils.openeye:molecule                       does not have unique atom names. Generating now...\n",
      "INFO:utils.openeye:molecule                       does not have unique atom names. Generating now...\n",
      "INFO:utils.openeye:molecule                       does not have unique atom names. Generating now...\n",
      "INFO:utils.openeye:molecule                       does not have unique atom names. Generating now...\n",
      "INFO:utils.openeye:molecule                       does not have unique atom names. Generating now...\n",
      "INFO:utils.openeye:molecule                       does not have unique atom names. Generating now...\n",
      "INFO:utils.openeye:molecule                       does not have unique atom names. Generating now...\n",
      "INFO:utils.openeye:molecule                       does not have unique atom names. Generating now...\n",
      "INFO:utils.openeye:molecule                       does not have unique atom names. Generating now...\n",
      "INFO:utils.openeye:molecule                       does not have unique atom names. Generating now...\n",
      "INFO:utils.openeye:molecule                       does not have unique atom names. Generating now...\n",
      "INFO:utils.openeye:molecule                       does not have unique atom names. Generating now...\n",
      "INFO:utils.openeye:molecule                       does not have unique atom names. Generating now...\n",
      "INFO:utils.openeye:molecule                       does not have unique atom names. Generating now...\n",
      "INFO:utils.openeye:molecule                       does not have unique atom names. Generating now...\n",
      "INFO:utils.openeye:molecule                       does not have unique atom names. Generating now...\n",
      "INFO:utils.openeye:molecule                       does not have unique atom names. Generating now...\n",
      "INFO:utils.openeye:molecule                       does not have unique atom names. Generating now...\n",
      "INFO:utils.openeye:molecule                       does not have unique atom names. Generating now...\n",
      "INFO:utils.openeye:molecule                       does not have unique atom names. Generating now...\n",
      "INFO:utils.openeye:molecule                       does not have unique atom names. Generating now...\n",
      "INFO:utils.openeye:molecule                       does not have unique atom names. Generating now...\n",
      "INFO:utils.openeye:molecule                       does not have unique atom names. Generating now...\n",
      "INFO:utils.openeye:molecule                       does not have unique atom names. Generating now...\n",
      "INFO:utils.openeye:molecule                       does not have unique atom names. Generating now...\n",
      "INFO:utils.openeye:molecule                       does not have unique atom names. Generating now...\n",
      "INFO:utils.openeye:molecule                       does not have unique atom names. Generating now...\n",
      "INFO:utils.openeye:molecule                       does not have unique atom names. Generating now...\n",
      "INFO:utils.openeye:molecule                       does not have unique atom names. Generating now...\n",
      "INFO:utils.openeye:molecule                       does not have unique atom names. Generating now...\n",
      "INFO:utils.openeye:molecule                       does not have unique atom names. Generating now...\n",
      "INFO:utils.openeye:molecule                       does not have unique atom names. Generating now...\n",
      "INFO:utils.openeye:molecule                       does not have unique atom names. Generating now...\n",
      "INFO:utils.openeye:molecule                       does not have unique atom names. Generating now...\n",
      "INFO:utils.openeye:molecule                       does not have unique atom names. Generating now...\n",
      "INFO:utils.openeye:molecule                       does not have unique atom names. Generating now...\n",
      "INFO:utils.openeye:molecule                       does not have unique atom names. Generating now...\n",
      "INFO:utils.openeye:molecule                       does not have unique atom names. Generating now...\n",
      "INFO:utils.openeye:molecule                       does not have unique atom names. Generating now...\n",
      "INFO:utils.openeye:molecule                       does not have unique atom names. Generating now...\n",
      "INFO:utils.openeye:molecule                       does not have unique atom names. Generating now...\n",
      "INFO:utils.openeye:molecule                       does not have unique atom names. Generating now...\n",
      "INFO:utils.openeye:molecule                       does not have unique atom names. Generating now...\n",
      "INFO:utils.openeye:molecule                       does not have unique atom names. Generating now...\n",
      "INFO:utils.openeye:molecule                       does not have unique atom names. Generating now...\n",
      "INFO:utils.openeye:molecule                       does not have unique atom names. Generating now...\n",
      "INFO:utils.openeye:molecule                       does not have unique atom names. Generating now...\n",
      "INFO:utils.openeye:molecule                       does not have unique atom names. Generating now...\n",
      "INFO:utils.openeye:molecule                       does not have unique atom names. Generating now...\n",
      "INFO:utils.openeye:molecule                       does not have unique atom names. Generating now...\n",
      "INFO:utils.openeye:molecule                       does not have unique atom names. Generating now...\n",
      "INFO:utils.openeye:molecule                       does not have unique atom names. Generating now...\n",
      "INFO:utils.openeye:molecule                       does not have unique atom names. Generating now...\n",
      "INFO:utils.openeye:molecule                       does not have unique atom names. Generating now...\n",
      "INFO:utils.openeye:molecule                       does not have unique atom names. Generating now...\n",
      "INFO:utils.openeye:molecule                       does not have unique atom names. Generating now...\n",
      "INFO:utils.openeye:molecule                       does not have unique atom names. Generating now...\n",
      "INFO:utils.openeye:molecule                       does not have unique atom names. Generating now...\n",
      "INFO:utils.openeye:molecule                       does not have unique atom names. Generating now...\n",
      "INFO:utils.openeye:molecule                       does not have unique atom names. Generating now...\n",
      "INFO:utils.openeye:molecule                       does not have unique atom names. Generating now...\n",
      "INFO:utils.openeye:molecule                       does not have unique atom names. Generating now...\n",
      "INFO:utils.openeye:molecule                       does not have unique atom names. Generating now...\n",
      "INFO:utils.openeye:molecule                       does not have unique atom names. Generating now...\n",
      "INFO:utils.openeye:molecule                       does not have unique atom names. Generating now...\n",
      "INFO:utils.openeye:molecule                       does not have unique atom names. Generating now...\n",
      "INFO:utils.openeye:molecule                       does not have unique atom names. Generating now...\n",
      "INFO:utils.openeye:molecule                       does not have unique atom names. Generating now...\n",
      "INFO:utils.openeye:molecule                       does not have unique atom names. Generating now...\n",
      "INFO:utils.openeye:molecule                       does not have unique atom names. Generating now...\n",
      "INFO:utils.openeye:molecule                       does not have unique atom names. Generating now...\n",
      "INFO:utils.openeye:molecule                       does not have unique atom names. Generating now...\n",
      "INFO:utils.openeye:molecule                       does not have unique atom names. Generating now...\n",
      "INFO:utils.openeye:molecule                       does not have unique atom names. Generating now...\n",
      "INFO:utils.openeye:molecule                       does not have unique atom names. Generating now...\n",
      "INFO:utils.openeye:molecule                       does not have unique atom names. Generating now...\n",
      "INFO:utils.openeye:molecule                       does not have unique atom names. Generating now...\n",
      "INFO:utils.openeye:molecule                       does not have unique atom names. Generating now...\n",
      "INFO:utils.openeye:molecule                       does not have unique atom names. Generating now...\n",
      "INFO:utils.openeye:molecule                       does not have unique atom names. Generating now...\n",
      "INFO:utils.openeye:molecule                       does not have unique atom names. Generating now...\n",
      "INFO:utils.openeye:molecule                       does not have unique atom names. Generating now...\n",
      "INFO:utils.openeye:molecule                       does not have unique atom names. Generating now...\n",
      "INFO:utils.openeye:molecule                       does not have unique atom names. Generating now...\n",
      "INFO:utils.openeye:molecule                       does not have unique atom names. Generating now...\n",
      "INFO:utils.openeye:molecule                       does not have unique atom names. Generating now...\n",
      "INFO:utils.openeye:molecule                       does not have unique atom names. Generating now...\n",
      "INFO:utils.openeye:molecule                       does not have unique atom names. Generating now...\n",
      "INFO:utils.openeye:molecule                       does not have unique atom names. Generating now...\n",
      "INFO:utils.openeye:molecule                       does not have unique atom names. Generating now...\n",
      "INFO:utils.openeye:molecule                       does not have unique atom names. Generating now...\n",
      "INFO:utils.openeye:molecule                       does not have unique atom names. Generating now...\n",
      "INFO:utils.openeye:molecule                       does not have unique atom names. Generating now...\n",
      "INFO:utils.openeye:molecule                       does not have unique atom names. Generating now...\n",
      "INFO:utils.openeye:molecule                       does not have unique atom names. Generating now...\n",
      "INFO:utils.openeye:molecule                       does not have unique atom names. Generating now...\n",
      "INFO:utils.openeye:molecule                       does not have unique atom names. Generating now...\n",
      "INFO:utils.openeye:molecule                       does not have unique atom names. Generating now...\n",
      "INFO:utils.openeye:molecule                       does not have unique atom names. Generating now...\n",
      "INFO:utils.openeye:molecule                       does not have unique atom names. Generating now...\n",
      "INFO:utils.openeye:molecule                       does not have unique atom names. Generating now...\n",
      "INFO:utils.openeye:molecule                       does not have unique atom names. Generating now...\n",
      "INFO:utils.openeye:molecule                       does not have unique atom names. Generating now...\n",
      "INFO:utils.openeye:molecule                       does not have unique atom names. Generating now...\n",
      "INFO:utils.openeye:molecule                       does not have unique atom names. Generating now...\n",
      "INFO:utils.openeye:molecule                       does not have unique atom names. Generating now...\n",
      "INFO:utils.openeye:molecule                       does not have unique atom names. Generating now...\n",
      "INFO:utils.openeye:molecule                       does not have unique atom names. Generating now...\n",
      "INFO:utils.openeye:molecule                       does not have unique atom names. Generating now...\n",
      "INFO:utils.openeye:molecule                       does not have unique atom names. Generating now...\n",
      "INFO:utils.openeye:molecule                       does not have unique atom names. Generating now...\n",
      "INFO:utils.openeye:molecule                       does not have unique atom names. Generating now...\n",
      "INFO:utils.openeye:molecule                       does not have unique atom names. Generating now...\n",
      "INFO:utils.openeye:molecule                       does not have unique atom names. Generating now...\n"
     ]
    }
   ],
   "source": [
    "\n",
    "filtered_interest_molecules = []\n",
    "for tup in interest_molecules:\n",
    "    smiles = tup[-1]\n",
    "    oem = smiles_to_oemol(smiles)\n",
    "    if has_only_CHNO(oem) and has_le_N_rotatable_bonds(oem, 2) and has_zero_net_charge(oem) and tup[2] < 0.1 and tup[3] < 0.7:\n",
    "        filtered_interest_molecules.append(tup)"
   ]
  },
  {
   "cell_type": "code",
   "execution_count": 13,
   "metadata": {},
   "outputs": [
    {
     "data": {
      "text/plain": [
       "[(-3.23, -4.72, 0.03, 0.6, ' CCCCO'),\n",
       " (-5.44, -3.82, 0.03, 0.6, ' c1ccc(cc1)OC=O'),\n",
       " (-2.87, -4.84, 0.03, 0.6, ' Cc1cc(cnc1)C'),\n",
       " (-3.34, -4.93, 0.03, 0.6, ' Cc1ccncc1'),\n",
       " (-3.49, -5.1, 0.02, 0.6, ' CO'),\n",
       " (-4.9, -3.15, 0.02, 0.1, ' c1ccc2c(c1)Oc3ccccc3O2'),\n",
       " (-8.16, -5.88, 0.03, 0.6, ' Cc1c[nH]c2c1cccc2'),\n",
       " (-5.28, -6.79, 0.03, 0.6, ' c1ccc(cc1)CCO'),\n",
       " (-14.15, -20.52, 0.08, 0.27, ' C1[C@H]([C@@H]([C@H]([C@H](O1)O)O)O)O'),\n",
       " (-3.15, -4.62, 0.03, 0.6, ' CC[C@H](C)O'),\n",
       " (-2.08, -4.02, 0.02, 0.6, ' C[N+](=O)[O-]'),\n",
       " (-8.28, -10.0, 0.02, 0.6, ' CC(=O)NC'),\n",
       " (-3.04, -4.61, 0.03, 0.6, ' CC(=O)C1CC1'),\n",
       " (-8.39, -10.17, 0.03, 0.6, ' c1cc(ccc1C#N)O'),\n",
       " (-3.39, -5.0, 0.02, 0.6, ' CCO'),\n",
       " (-3.2, -5.22, 0.03, 0.6, ' Cc1ccncc1C'),\n",
       " (-15.25, -11.85, 0.04, 0.35, ' c1ccc2c(c1)C(=O)c3c(ccc(c3C2=O)N)N'),\n",
       " (-6.79, -4.52, 0.04, 0.6, ' c1cc2ccc3cccc4c3c2c(c1)cc4'),\n",
       " (-8.08, -9.76, 0.04, 0.2, ' Cc1ccc(cc1)C(=O)N(C)C'),\n",
       " (-7.74, -9.65, 0.03, 0.6, ' c1cc(cc(c1)O)C#N'),\n",
       " (-7.83, -9.8, 0.03, 0.6, ' CC(=O)N1CCCC1'),\n",
       " (-8.47, -10.64, 0.03, 0.6, ' c1cc(ccc1[N+](=O)[O-])O'),\n",
       " (-11.82, -9.61, 0.03, 0.5, ' c1ccc2c(c1)C(=O)NC2=O'),\n",
       " (2.48, 0.75, 0.02, 0.6, ' C1CC1'),\n",
       " (-8.81, -4.68, 0.03, 0.1, ' c1ccc(c(c1)C=O)O'),\n",
       " (-2.94, -4.39, 0.03, 0.6, ' CCC[C@@H](C)O'),\n",
       " (-8.84, -6.09, 0.03, 0.6, ' CC(C)CC(=O)O'),\n",
       " (-3.33, -4.85, 0.02, 0.6, ' CCCO'),\n",
       " (-10.98, -9.53, 0.05, 0.28, ' c1ccc2c(c1)C(=O)c3c(ccc(c3C2=O)O)N'),\n",
       " (-8.01, -4.97, 0.03, 0.6, ' CC(OC(=O)C)OC(=O)C'),\n",
       " (-7.27, -9.3, 0.03, 0.6, ' C(CO)O'),\n",
       " (-2.96, -4.59, 0.03, 0.6, ' CCc1cccnc1'),\n",
       " (-13.89, -11.53, 0.04, 0.29, ' c1ccc2c(c1)C(=O)c3ccc(cc3C2=O)N'),\n",
       " (-5.13, -6.62, 0.03, 0.6, ' c1ccc(cc1)CO'),\n",
       " (-6.28, -8.41, 0.02, 0.6, ' Cn1ccnc1'),\n",
       " (-8.21, -10.27, 0.03, 0.6, ' Cc1c[nH]cn1'),\n",
       " (-4.69, -6.62, 0.03, 0.4, ' COCCO'),\n",
       " (-3.22, -4.77, 0.03, 0.6, ' Cc1cccnc1'),\n",
       " (-21.76, -18.06, 0.03, 0.27, ' c1(=O)[nH]c(=O)[nH]c(=O)[nH]1'),\n",
       " (-3.86, -5.56, 0.02, 0.6, ' C1CNC1'),\n",
       " (-3.19, -4.73, 0.03, 0.6, ' CCc1ccncc1'),\n",
       " (-6.58, -4.4, 0.03, 0.6, ' CC(=O)c1ccc(cc1)OC'),\n",
       " (-3.59, -2.02, 0.03, 0.6, ' CC(C)OC=O'),\n",
       " (-5.03, -6.55, 0.03, 0.6, ' COCCN'),\n",
       " (-7.89, -9.62, 0.03, 0.6, ' c1cc(cc(c1)O)[N+](=O)[O-]'),\n",
       " (-2.79, -4.35, 0.03, 0.6, ' CCC(CC)O'),\n",
       " (-6.51, -9.3, 0.02, 0.6, ' NN'),\n",
       " (-10.04, -11.95, 0.04, 0.6, ' CN(C)C(=O)c1ccc(cc1)[N+](=O)[O-]'),\n",
       " (-2.42, -3.88, 0.03, 0.6, ' CC[C@H](C(C)C)O'),\n",
       " (-7.97, -9.63, 0.02, 0.6, ' c1cnc[nH]1'),\n",
       " (-9.09, -6.46, 0.03, 0.6, ' CCC(=O)O'),\n",
       " (-3.0, -4.42, 0.03, 0.6, ' CC[C@@H](C)CO'),\n",
       " (-3.29, -5.03, 0.02, 0.6, ' C=CCO'),\n",
       " (-9.43, -6.35, 0.03, 0.6, ' CCCC(=O)O'),\n",
       " (-1.84, -3.71, 0.02, 0.6, ' CC[N+](=O)[O-]'),\n",
       " (-3.37, -4.82, 0.03, 0.6, ' Cc1cccnc1C'),\n",
       " (-3.28, -4.86, 0.03, 0.6, ' Cc1ccnc(c1)C'),\n",
       " (1.86, 0.4, 0.03, 0.6, ' CC(=C)C(=C)C'),\n",
       " (2.36, 0.93, 0.02, 0.6, ' C=CCC=C'),\n",
       " (-3.17, -4.72, 0.03, 0.6, ' Cc1ccc(nc1)C'),\n",
       " (-18.09,\n",
       "  -25.47,\n",
       "  0.07,\n",
       "  0.22,\n",
       "  ' C([C@@H]1[C@H]([C@@H]([C@H]([C@@H](O1)O)O)O)O)O'),\n",
       " (-1.63, -3.34, 0.02, 0.6, ' CCC[N+](=O)[O-]'),\n",
       " (-0.69, -2.21, 0.03, 0.6, ' CC(C)(C)OC'),\n",
       " (-2.93, -4.43, 0.03, 0.6, ' CCC(C)(C)O')]"
      ]
     },
     "execution_count": 13,
     "metadata": {},
     "output_type": "execute_result"
    }
   ],
   "source": [
    "filtered_interest_molecules"
   ]
  },
  {
   "cell_type": "code",
   "execution_count": 14,
   "metadata": {},
   "outputs": [
    {
     "data": {
      "text/plain": [
       "Text(0.5, 1.0, 'freesolv dataset for MM-->ANI calculations')"
      ]
     },
     "execution_count": 14,
     "metadata": {},
     "output_type": "execute_result"
    },
    {
     "data": {
      "image/png": "[encoded data removed]",
      "text/plain": [
       "<Figure size 432x288 with 1 Axes>"
      ]
     },
     "metadata": {
      "needs_background": "light"
     },
     "output_type": "display_data"
    }
   ],
   "source": [
    "calc = [i[0] for i in filtered_interest_molecules]\n",
    "exp = [i[1] for i in filtered_interest_molecules]\n",
    "dcalc = [i[2] for i in filtered_interest_molecules]\n",
    "dexp = [i[3] for i in filtered_interest_molecules]\n",
    "plt.errorbar(exp, calc, xerr=dexp, yerr=dcalc, ls = 'None', marker = 'o')\n",
    "plt.xlabel(f\"exp [kcal/mol]\")\n",
    "plt.ylabel(f\"calc [kcal/mol]\")\n",
    "plt.title(f\"freesolv dataset for MM-->ANI calculations\")\n"
   ]
  },
  {
   "cell_type": "code",
   "execution_count": 15,
   "metadata": {},
   "outputs": [],
   "source": [
    "np.save(f\"freesolv_dataset.npy\", filtered_interest_molecules)"
   ]
  },
  {
   "cell_type": "code",
   "execution_count": 16,
   "metadata": {},
   "outputs": [
    {
     "data": {
      "text/plain": [
       "True"
      ]
     },
     "execution_count": 16,
     "metadata": {},
     "output_type": "execute_result"
    }
   ],
   "source": [
    "from openeye import oedepict\n",
    "from openeye import oechem\n",
    "smiles = [i[-1] for i in filtered_interest_molecules]\n",
    "\n",
    "image = oedepict.OEImage(1000, 1000)\n",
    "\n",
    "rows, cols = 8,8\n",
    "grid = oedepict.OEImageGrid(image, rows, cols)\n",
    "\n",
    "opts = oedepict.OE2DMolDisplayOptions(grid.GetCellWidth(), grid.GetCellHeight(),\n",
    "                                       oedepict.OEScale_AutoScale)\n",
    "\n",
    "for smi, cell in zip(smiles, grid.GetCells()):\n",
    "    mol = oechem.OEGraphMol()\n",
    "    oechem.OESmilesToMol(mol, smi)\n",
    "    oedepict.OEPrepareDepiction(mol)\n",
    "    disp = oedepict.OE2DMolDisplay(mol, opts)\n",
    "    oedepict.OERenderMolecule(cell, disp)\n",
    "\n",
    "oedepict.OEWriteImage(\"ImageGridSimple.png\", image)"
   ]
  },
  {
   "cell_type": "markdown",
   "metadata": {},
   "source": [
    "## Summary:\n",
    "I have:\n",
    "- plotted the calculated and experimental hydration free energies from the freesolv dataset\n",
    "- extracted molecule for which \n",
    "    - residuals show >1.4kcal/mol deviation from experimental data\n",
    "    - contain _only_ C,H,N, and O atoms\n",
    "    - have experimental errors < 0.7kcal/mol\n",
    "    - have calculated errors of < 0.1kcal/mol\n",
    "    - have no more than 2 rotatable bonds\n",
    "    - have 0 net charge\n",
    "- plotted the resultant correlation data\n",
    "- rendered the images of the 64 molecules of interest\n",
    "- saved the data of the molecules"
   ]
  },
  {
   "cell_type": "code",
   "execution_count": null,
   "metadata": {},
   "outputs": [],
   "source": []
  }
 ],
 "metadata": {
  "kernelspec": {
   "display_name": "Python 3",
   "language": "python",
   "name": "python3"
  },
  "language_info": {
   "codemirror_mode": {
    "name": "ipython",
    "version": 3
   },
   "file_extension": ".py",
   "mimetype": "text/x-python",
   "name": "python",
   "nbconvert_exporter": "python",
   "pygments_lexer": "ipython3",
   "version": "3.6.7"
  }
 },
 "nbformat": 4,
 "nbformat_minor": 4
}
