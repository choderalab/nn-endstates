{
 "cells": [
  {
   "cell_type": "markdown",
   "metadata": {},
   "source": [
    "# Finding rotatable bonds in the Jnk1 ANI subset"
   ]
  },
  {
   "cell_type": "code",
   "execution_count": 158,
   "metadata": {},
   "outputs": [],
   "source": [
    "from perses.utils.openeye import *\n",
    "from openeye import oechem, oedepict, oegrapheme"
   ]
  },
  {
   "cell_type": "code",
   "execution_count": 159,
   "metadata": {},
   "outputs": [
    {
     "name": "stderr",
     "output_type": "stream",
     "text": [
      "INFO:utils.openeye:molecule 18629-1                      does not have unique atom names. Generating now...\n",
      "INFO:utils.openeye:molecule 18634-1                      does not have unique atom names. Generating now...\n",
      "INFO:utils.openeye:molecule 18628-1                      does not have unique atom names. Generating now...\n",
      "INFO:utils.openeye:molecule 18624-1                      does not have unique atom names. Generating now...\n",
      "INFO:utils.openeye:molecule 18633-1                      does not have unique atom names. Generating now...\n",
      "INFO:utils.openeye:molecule 18635-1                      does not have unique atom names. Generating now...\n",
      "INFO:utils.openeye:molecule 18659-1                      does not have unique atom names. Generating now...\n",
      "INFO:utils.openeye:molecule 18637-1                      does not have unique atom names. Generating now...\n",
      "INFO:utils.openeye:molecule 18658-1                      does not have unique atom names. Generating now...\n",
      "INFO:utils.openeye:molecule 18630-1                      does not have unique atom names. Generating now...\n",
      "INFO:utils.openeye:molecule 18639-1                      does not have unique atom names. Generating now...\n",
      "INFO:utils.openeye:molecule 18631-1                      does not have unique atom names. Generating now...\n",
      "INFO:utils.openeye:molecule 18632-1                      does not have unique atom names. Generating now...\n"
     ]
    }
   ],
   "source": [
    "rotatable_bonds = {}\n",
    "\n",
    "for ani_index in [0, 1, 2, 4, 5, 6, 9, 10, 14, 15, 16, 17, 18]:\n",
    "    mol = createOEMolFromSDF('Jnk1_ligands_shifted.sdf',index=ani_index)    \n",
    "    oechem.OEAssignHybridization(mol)\n",
    "    oedepict.OEPrepareDepiction(mol)\n",
    "    mol.SetTitle(f'Jnk1-{ani_index}')\n",
    "\n",
    "    opts = oedepict.OE2DMolDisplayOptions(500, 500, oedepict.OEScale_AutoScale)\n",
    "    disp = oedepict.OE2DMolDisplay(mol, opts)\n",
    "\n",
    "    pen = oedepict.OEPen()\n",
    "    glyph = oegrapheme.OEBondGlyphCurvedArrow(pen, 0.5)\n",
    "    oegrapheme.OEAddGlyph(disp, glyph, oechem.OEIsRotor())\n",
    "\n",
    "    oedepict.OERenderMolecule(f\"Jnk1{ani_index}.png\", disp)\n",
    "    \n",
    "    rotatables = []\n",
    "    for bond in mol.GetBonds():\n",
    "        if bond.IsRotor():\n",
    "            rotatables.append((bond.GetBgn().GetName(), bond.GetEnd().GetName()))\n",
    "            \n",
    "    rotatable_bonds[ani_index] = rotatables"
   ]
  },
  {
   "cell_type": "code",
   "execution_count": 160,
   "metadata": {
    "scrolled": true
   },
   "outputs": [
    {
     "name": "stdout",
     "output_type": "stream",
     "text": [
      "{0: [('C2', 'O1'), ('O1', 'C3'), ('C4', 'N4'), ('N4', 'C9'), ('C9', 'C10'), ('C10', 'C11')], 1: [('C2', 'O1'), ('O1', 'C3'), ('C4', 'N4'), ('N4', 'C9'), ('C9', 'C10'), ('C10', 'C11'), ('C12', 'O3'), ('C16', 'O4')], 2: [('C2', 'O1'), ('O1', 'C3'), ('C4', 'N4'), ('N4', 'C9'), ('C9', 'C10'), ('C10', 'C11')], 4: [('C2', 'O1'), ('O1', 'C3'), ('C4', 'N4'), ('N4', 'C9'), ('C9', 'C10'), ('C10', 'C11')], 5: [('C2', 'O1'), ('O1', 'C3'), ('C4', 'N4'), ('N4', 'C9'), ('C9', 'C10'), ('C10', 'C11'), ('C14', 'O3')], 6: [('C2', 'O1'), ('O1', 'C3'), ('C4', 'N4'), ('N4', 'C9'), ('C9', 'C10'), ('C10', 'C11')], 9: [('O1', 'C2'), ('C2', 'C3'), ('C3', 'O2'), ('O2', 'C4'), ('C5', 'N4'), ('N4', 'C10'), ('C10', 'C11'), ('C11', 'C12'), ('C13', 'O4'), ('C17', 'O5')], 10: [('C2', 'O1'), ('O1', 'C3'), ('C4', 'N4'), ('N4', 'C9'), ('C9', 'C10'), ('C10', 'C11'), ('C12', 'O3'), ('C15', 'N5'), ('C16', 'O4'), ('N5', 'C19')], 14: [('C1', 'C2'), ('C2', 'O2'), ('O2', 'C3'), ('C4', 'N4'), ('N4', 'C9'), ('C9', 'C10'), ('C10', 'C11'), ('C12', 'O4'), ('C16', 'O5')], 15: [('C2', 'O1'), ('O1', 'C3'), ('C4', 'N4'), ('N4', 'C9'), ('C9', 'C10'), ('C10', 'C11')], 16: [('C2', 'O1'), ('O1', 'C3'), ('C4', 'N4'), ('N4', 'C9'), ('C9', 'C10'), ('C10', 'C11'), ('C12', 'O3'), ('C15', 'N5'), ('C16', 'O6')], 17: [('C2', 'O1'), ('O1', 'C3'), ('C4', 'N4'), ('N4', 'C9'), ('C9', 'C10'), ('C10', 'C11'), ('C12', 'O3')], 18: [('C2', 'O1'), ('O1', 'C3'), ('C4', 'N4'), ('N4', 'C9'), ('C9', 'C10'), ('C10', 'C11'), ('C13', 'O3')]}\n"
     ]
    }
   ],
   "source": [
    "print(rotatable_bonds)"
   ]
  },
  {
   "cell_type": "code",
   "execution_count": null,
   "metadata": {},
   "outputs": [],
   "source": []
  },
  {
   "cell_type": "code",
   "execution_count": null,
   "metadata": {},
   "outputs": [],
   "source": []
  }
 ],
 "metadata": {
  "kernelspec": {
   "display_name": "Python 3",
   "language": "python",
   "name": "python3"
  },
  "language_info": {
   "codemirror_mode": {
    "name": "ipython",
    "version": 3
   },
   "file_extension": ".py",
   "mimetype": "text/x-python",
   "name": "python",
   "nbconvert_exporter": "python",
   "pygments_lexer": "ipython3",
   "version": "3.6.8"
  }
 },
 "nbformat": 4,
 "nbformat_minor": 2
}
