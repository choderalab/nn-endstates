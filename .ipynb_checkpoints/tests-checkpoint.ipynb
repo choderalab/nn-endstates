{
 "cells": [
  {
   "cell_type": "code",
   "execution_count": 1,
   "metadata": {},
   "outputs": [
    {
     "name": "stderr",
     "output_type": "stream",
     "text": [
      "RDKit WARNING: [15:24:27] Enabling RDKit 2019.09.3 jupyter extensions\n"
     ]
    },
    {
     "name": "stdout",
     "output_type": "stream",
     "text": [
      "conducting subsequent work with the following platform: CPU\n",
      "conducting subsequent work with the following platform: CPU\n",
      "conducting subsequent work with the following platform: CPU\n"
     ]
    }
   ],
   "source": [
    "import numpy as np\n",
    "from complete import *\n",
    "import pickle\n",
    "from simtk import unit"
   ]
  },
  {
   "cell_type": "markdown",
   "metadata": {},
   "source": [
    "i will start by extracting benzene in solvent and running the vanilla `annealed_importance_sampling` on it"
   ]
  },
  {
   "cell_type": "code",
   "execution_count": 2,
   "metadata": {},
   "outputs": [],
   "source": [
    "with open('benzene_methylbenzene.solvent.factory.pkl', 'rb') as f:\n",
    "    factory = pickle.load(f)\n",
    "with open('benzene_methylbenzene.vacuum.factory.pkl', 'rb') as f:\n",
    "    subset_factory = pickle.load(f)"
   ]
  },
  {
   "cell_type": "markdown",
   "metadata": {},
   "source": [
    "below, i will extract and save the solvated positions and box vectors as `.npy` files"
   ]
  },
  {
   "cell_type": "code",
   "execution_count": 3,
   "metadata": {},
   "outputs": [],
   "source": [
    "# solvated_positions = np.array([factory._old_positions.value_in_unit(unit.nanometers)])\n",
    "# sbv = factory._old_system.getDefaultPeriodicBoxVectors()\n",
    "# box_vectors = np.array([[[sbv[0][0].value_in_unit(unit.nanometers), 0., 0.], [0., sbv[1][1].value_in_unit(unit.nanometers), 0.], [0., 0., sbv[2][2].value_in_unit(unit.nanometers)]]])"
   ]
  },
  {
   "cell_type": "code",
   "execution_count": 4,
   "metadata": {},
   "outputs": [],
   "source": [
    "# np.save('benzene.solvated_positions.npy', solvated_positions)\n",
    "# np.save('benzene.box_vectors.npy', box_vectors)"
   ]
  },
  {
   "cell_type": "markdown",
   "metadata": {},
   "source": [
    "we need to extract the approprate topologies and systems from the factories"
   ]
  },
  {
   "cell_type": "code",
   "execution_count": 5,
   "metadata": {},
   "outputs": [
    {
     "name": "stdout",
     "output_type": "stream",
     "text": [
      "defining systems\n",
      "extracting appropriate subset indices...\n",
      "atom extractions...\n",
      "\t(vacuum_atom, atom_in_environment)\n",
      "(C3, C3)\n",
      "(C2, C2)\n",
      "(C4, C4)\n",
      "(C1, C1)\n",
      "(C5, C5)\n",
      "(C6, C6)\n",
      "(H3, H3)\n",
      "(H2, H2)\n",
      "(H4, H4)\n",
      "(H1, H1)\n",
      "(H5, H5)\n",
      "(H6, H6)\n"
     ]
    }
   ],
   "source": [
    "\n",
    "\n",
    "#extract system and vacuum system\n",
    "print(f\"defining systems\")\n",
    "endstate = 'old'\n",
    "system = getattr(factory._topology_proposal, f\"_{endstate}_system\")\n",
    "system_subset = getattr(subset_factory._topology_proposal, f\"_{endstate}_system\")\n",
    "\n",
    "#now we have to extract the appropriate subset indices...\n",
    "print(f\"extracting appropriate subset indices...\")\n",
    "omm_topology = getattr(factory._topology_proposal, f\"_{endstate}_topology\")\n",
    "subset_omm_topology = getattr(subset_factory._topology_proposal, f\"_{endstate}_topology\")\n",
    "\n",
    "md_topology = md.Topology.from_openmm(omm_topology)\n",
    "subset_md_topology = md.Topology.from_openmm(subset_omm_topology)\n",
    "\n",
    "mol_indices = md_topology.select('resname MOL')\n",
    "mol_atoms = [atom for atom in md_topology.atoms if atom.index in mol_indices]\n",
    "\n",
    "subset_mol_indices = subset_md_topology.select('resname MOL')\n",
    "subset_mol_atoms = [atom for atom in subset_md_topology.atoms if atom.index in mol_indices]\n",
    "\n",
    "mol_atom_dict = {i:j for i, j in zip(mol_indices, subset_mol_indices)} #mol atom dict is complex-to-vacuum indices\n",
    "\n",
    "save_indices = md_topology.select('not water')\n",
    "\n",
    "#print what was extracted:\n",
    "print(f\"atom extractions...\")\n",
    "print(f\"\\t(vacuum_atom, atom_in_environment)\")\n",
    "for subset_atom, atom in zip(subset_mol_atoms, mol_atoms):\n",
    "    print(f\"({subset_atom.name}, {atom.name})\")"
   ]
  },
  {
   "cell_type": "code",
   "execution_count": 6,
   "metadata": {},
   "outputs": [
    {
     "name": "stderr",
     "output_type": "stream",
     "text": [
      "INFO:hybrid_propagators:species string: CCCCCCHHHHHH\n"
     ]
    },
    {
     "name": "stdout",
     "output_type": "stream",
     "text": [
      "loaded 1 from the cache\n"
     ]
    },
    {
     "name": "stderr",
     "output_type": "stream",
     "text": [
      "  0%|          | 0/1 [00:00<?, ?it/s]"
     ]
    },
    {
     "name": "stdout",
     "output_type": "stream",
     "text": [
      "step      0 : allow forces to update the context state\n",
      "step      1 : if(has_kT_changed = 1):\n",
      "step      2 :    sigma <- sqrt(kT/m)\n",
      "step      3 :    has_kT_changed <- 0\n",
      "step      4 : end\n",
      "step      5 : old_ke <- sum(0.5 * m * v * v)\n",
      "step      6 : v <- v + (dt / 1) * modified_force / m\n",
      "step      7 : constrain velocities\n",
      "step      8 : new_ke <- sum(0.5 * m * v * v)\n",
      "step      9 : shadow_work <- shadow_work + (new_ke - old_ke)\n",
      "step     10 : old_pe <- energy\n",
      "step     11 : old_ke <- sum(0.5 * m * v * v)\n",
      "step     12 : x <- x + ((dt / 2) * v)\n",
      "step     13 : x1 <- x\n",
      "step     14 : constrain positions\n",
      "step     15 : v <- v + ((x - x1) / (dt / 2))\n",
      "step     16 : constrain velocities\n",
      "step     17 : new_pe <- energy\n",
      "step     18 : new_ke <- sum(0.5 * m * v * v)\n",
      "step     19 : shadow_work <- shadow_work + (new_ke + new_pe) - (old_ke + old_pe)\n",
      "step     20 : old_ke <- sum(0.5 * m * v * v)\n",
      "step     21 : v <- (a * v) + (b * sigma * gaussian)\n",
      "step     22 : constrain velocities\n",
      "step     23 : new_ke <- sum(0.5 * m * v * v)\n",
      "step     24 : proposal_work <- proposal_work + -1*(new_ke - old_ke)\n",
      "step     25 : old_pe <- energy\n",
      "step     26 : old_ke <- sum(0.5 * m * v * v)\n",
      "step     27 : x <- x + ((dt / 2) * v)\n",
      "step     28 : x1 <- x\n",
      "step     29 : constrain positions\n",
      "step     30 : v <- v + ((x - x1) / (dt / 2))\n",
      "step     31 : constrain velocities\n",
      "step     32 : new_pe <- energy\n",
      "step     33 : new_ke <- sum(0.5 * m * v * v)\n",
      "step     34 : shadow_work <- shadow_work + (new_ke + new_pe) - (old_ke + old_pe)\n",
      "step     35 : modified_force <- f\n"
     ]
    },
    {
     "name": "stderr",
     "output_type": "stream",
     "text": [
      "100%|██████████| 1/1 [00:00<00:00,  1.98it/s]\n"
     ]
    }
   ],
   "source": [
    "number_of_applications = 1\n",
    "steps_per_application = 5\n",
    "write_trajectory_interval = 1\n",
    "works = annealed_importance_sampling(system = system,\n",
    "                                 system_subset = system_subset,\n",
    "                                 subset_indices_map = mol_atom_dict,\n",
    "                                 endstate_positions_cache_filename = 'benzene.solvated_positions.npy',\n",
    "                                 directory_name = None,\n",
    "                                 trajectory_prefix = None,\n",
    "                                 md_topology = md_topology,\n",
    "                                 number_of_applications = int(number_of_applications),\n",
    "                                 steps_per_application = int(steps_per_application),\n",
    "                                 integrator_kwargs = {'temperature': 300.0 * unit.kelvin,\n",
    "                                                      'collision_rate': 1.0 / unit.picoseconds,\n",
    "                                                      'timestep': 1.0 * unit.femtoseconds,\n",
    "                                                      'splitting': \"V R O R F\",\n",
    "                                                      'constraint_tolerance': 1e-6,\n",
    "                                                      'pressure': 1.0 * unit.atmosphere},\n",
    "                                 save_indices = save_indices,\n",
    "                                 position_extractor = None, #solvent_factory.new_positions\n",
    "                                 write_trajectory_interval = write_trajectory_interval,\n",
    "                                 endstate_box_vectors_cache_filename = 'benzene.box_vectors.npy'\n",
    "                                )"
   ]
  },
  {
   "cell_type": "markdown",
   "metadata": {},
   "source": [
    "here, i am basically copying the `annealed_importance_sampling` method in order to play with some internal parameters"
   ]
  },
  {
   "cell_type": "code",
   "execution_count": 7,
   "metadata": {},
   "outputs": [
    {
     "data": {
      "text/plain": [
       "{0: [0.0,\n",
       "  -48828.24880954667,\n",
       "  -97656.4874384066,\n",
       "  -146484.712602412,\n",
       "  -195312.92586827165,\n",
       "  -244141.1371590053]}"
      ]
     },
     "execution_count": 7,
     "metadata": {},
     "output_type": "execute_result"
    }
   ],
   "source": [
    "works"
   ]
  },
  {
   "cell_type": "code",
   "execution_count": null,
   "metadata": {},
   "outputs": [],
   "source": []
  }
 ],
 "metadata": {
  "kernelspec": {
   "display_name": "Python 3",
   "language": "python",
   "name": "python3"
  },
  "language_info": {
   "codemirror_mode": {
    "name": "ipython",
    "version": 3
   },
   "file_extension": ".py",
   "mimetype": "text/x-python",
   "name": "python",
   "nbconvert_exporter": "python",
   "pygments_lexer": "ipython3",
   "version": "3.6.7"
  }
 },
 "nbformat": 4,
 "nbformat_minor": 4
}
