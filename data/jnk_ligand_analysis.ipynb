{
 "cells": [
  {
   "cell_type": "markdown",
   "metadata": {},
   "source": [
    "## this `.ipynb` is just to take a peek at some of the ligands in the jnk system"
   ]
  },
  {
   "cell_type": "code",
   "execution_count": 9,
   "metadata": {},
   "outputs": [],
   "source": [
    "from perses.utils.openeye import createOEMolFromSDF\n",
    "import numpy as np\n",
    "from openeye import oechem, oedepict\n",
    "from perses.utils.openeye import generate_unique_atom_names, has_undefined_stereocenters"
   ]
  },
  {
   "cell_type": "code",
   "execution_count": 10,
   "metadata": {},
   "outputs": [
    {
     "name": "stderr",
     "output_type": "stream",
     "text": [
      "INFO:utils.openeye:molecule ejm_31                      does not have unique atom names. Generating now...\n",
      "INFO:utils.openeye:molecule jmc_30                      does not have unique atom names. Generating now...\n",
      "INFO:utils.openeye:molecule ejm_50                      does not have unique atom names. Generating now...\n",
      "INFO:utils.openeye:molecule ejm_46                      does not have unique atom names. Generating now...\n",
      "INFO:utils.openeye:molecule ejm_55                      does not have unique atom names. Generating now...\n",
      "INFO:utils.openeye:molecule ejm_43                      does not have unique atom names. Generating now...\n",
      "INFO:utils.openeye:molecule jmc_28                      does not have unique atom names. Generating now...\n",
      "INFO:utils.openeye:molecule ejm_49                      does not have unique atom names. Generating now...\n",
      "INFO:utils.openeye:molecule ejm_45                      does not have unique atom names. Generating now...\n",
      "INFO:utils.openeye:molecule ejm_44                      does not have unique atom names. Generating now...\n",
      "INFO:utils.openeye:molecule jmc_27                      does not have unique atom names. Generating now...\n",
      "INFO:utils.openeye:molecule ejm_48                      does not have unique atom names. Generating now...\n",
      "INFO:utils.openeye:molecule ejm_47                      does not have unique atom names. Generating now...\n",
      "INFO:utils.openeye:molecule jmc_23                      does not have unique atom names. Generating now...\n",
      "INFO:utils.openeye:molecule ejm_42                      does not have unique atom names. Generating now...\n",
      "INFO:utils.openeye:molecule ejm_54                      does not have unique atom names. Generating now...\n"
     ]
    }
   ],
   "source": [
    "ifs = oechem.oemolistream()\n",
    "ifs.open('Tyk2_ligands.sdf')\n",
    "# get the list of molecules\n",
    "mol_list = [oechem.OEMol(mol) for mol in ifs.GetOEMols()]\n",
    "# we'll always take the first for now\n",
    "\n",
    "# Generate unique atom names\n",
    "for molecule in mol_list:\n",
    "    if len([atom.GetName() for atom in molecule.GetAtoms()]) > len(set([atom.GetName() for atom in molecule.GetAtoms()])):\n",
    "        molecule = generate_unique_atom_names(molecule)\n",
    "\n",
    "    # Assign aromaticity and hydrogens.\n",
    "    oechem.OEAssignAromaticFlags(molecule, oechem.OEAroModelOpenEye)\n",
    "    oechem.OEAssignHybridization(molecule)\n",
    "    oechem.OEAddExplicitHydrogens(molecule)\n",
    "    oechem.OEAddExplicitHydrogens(molecule)\n",
    "    oechem.OEPerceiveChiral(molecule)\n",
    "\n",
    "    # perceive chirality\n",
    "    assert oechem.OE3DToInternalStereo(molecule), f\"the stereochemistry perception from 3D coordinates failed\"\n",
    "    assert not has_undefined_stereocenters(molecule), f\"there is an atom with an undefined stereochemistry\""
   ]
  },
  {
   "cell_type": "code",
   "execution_count": 11,
   "metadata": {},
   "outputs": [
    {
     "data": {
      "text/plain": [
       "16"
      ]
     },
     "execution_count": 11,
     "metadata": {},
     "output_type": "execute_result"
    }
   ],
   "source": [
    "len(mol_list)"
   ]
  },
  {
   "cell_type": "code",
   "execution_count": 12,
   "metadata": {},
   "outputs": [
    {
     "data": {
      "text/plain": [
       "True"
      ]
     },
     "execution_count": 12,
     "metadata": {},
     "output_type": "execute_result"
    }
   ],
   "source": [
    "from openeye import oedepict\n",
    "from openeye import oechem\n",
    "\n",
    "image = oedepict.OEImage(1000, 1000)\n",
    "\n",
    "rows, cols = 4,4\n",
    "grid = oedepict.OEImageGrid(image, rows, cols)\n",
    "\n",
    "opts = oedepict.OE2DMolDisplayOptions(grid.GetCellWidth(), grid.GetCellHeight(),\n",
    "                                       oedepict.OEScale_AutoScale)\n",
    "\n",
    "for mol, cell in zip(mol_list, grid.GetCells()):\n",
    "    oedepict.OEPrepareDepiction(mol)\n",
    "    disp = oedepict.OE2DMolDisplay(mol, opts)\n",
    "    oedepict.OERenderMolecule(cell, disp)\n",
    "\n",
    "oedepict.OEWriteImage(\"ImageGridSimple.png\", image)"
   ]
  },
  {
   "cell_type": "code",
   "execution_count": null,
   "metadata": {},
   "outputs": [],
   "source": []
  }
 ],
 "metadata": {
  "kernelspec": {
   "display_name": "Python 3",
   "language": "python",
   "name": "python3"
  },
  "language_info": {
   "codemirror_mode": {
    "name": "ipython",
    "version": 3
   },
   "file_extension": ".py",
   "mimetype": "text/x-python",
   "name": "python",
   "nbconvert_exporter": "python",
   "pygments_lexer": "ipython3",
   "version": "3.6.7"
  }
 },
 "nbformat": 4,
 "nbformat_minor": 4
}
