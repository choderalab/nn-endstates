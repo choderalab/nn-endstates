{
 "cells": [
  {
   "cell_type": "code",
   "execution_count": 25,
   "metadata": {},
   "outputs": [],
   "source": [
    "import numpy as np\n",
    "import os\n",
    "from perses.utils.openeye import createOEMolFromSDF\n",
    "from openeye import oechem"
   ]
  },
  {
   "cell_type": "code",
   "execution_count": 11,
   "metadata": {},
   "outputs": [
    {
     "name": "stdout",
     "output_type": "stream",
     "text": [
      "Bace_ligands.sdf\n",
      "Thrombin_ligands.sdf\n",
      "CDK2_ligands.sdf\n",
      "Tyk2_ligands.sdf\n",
      "Jnk1_ligands.sdf\n",
      "PTP1B_ligands.sdf\n",
      "MCL1_ligands.sdf\n",
      "p38_ligands.sdf\n"
     ]
    }
   ],
   "source": [
    "ligand_files = [x for x in os.listdir('data') if x[-4:] == '.sdf']\n",
    "\n",
    "\n",
    "target = {}\n",
    "\n",
    "for ligand_file in ligand_files:\n",
    "    print(ligand_file)\n",
    "    molecules = []\n",
    "    for i in range(0,43):\n",
    "        try:\n",
    "            mol = createOEMolFromSDF(f'data/{ligand_file}',index=i)\n",
    "            molecules.append(mol)\n",
    "        except IndexError:\n",
    "            break\n",
    "    target[ligand_file.split('_')[0]] = molecules"
   ]
  },
  {
   "cell_type": "code",
   "execution_count": 31,
   "metadata": {},
   "outputs": [],
   "source": [
    "def is_CNOH(mol):\n",
    "    \"\"\"\n",
    "    Checks that molecule only contains CNOH atoms, for use with NN potentials\n",
    "    Parameters\n",
    "    ----------\n",
    "    mol : oechem.oemol\n",
    "        molecule to check\n",
    "    Returns\n",
    "    -------\n",
    "    bool : \n",
    "        True if only CNOH, False otherwise\n",
    "    \"\"\"\n",
    "    for atom in mol.GetAtoms():\n",
    "        if atom.IsCarbon() or atom.IsHydrogen() or atom.IsOxygen() or atom.IsNitrogen():\n",
    "            continue\n",
    "        else:\n",
    "            return False\n",
    "    return True"
   ]
  },
  {
   "cell_type": "code",
   "execution_count": 32,
   "metadata": {
    "scrolled": false
   },
   "outputs": [
    {
     "name": "stdout",
     "output_type": "stream",
     "text": [
      "Bace\n",
      "17 / 36\n",
      "System Bace has enough molecules to run tests on\n",
      "Indices: [2, 4, 6, 12, 14, 16, 17, 18, 20, 21, 24, 26, 27, 29, 31, 34, 35]\n",
      "Charge on ligands: {1}\n",
      "\n",
      "Thrombin\n",
      "4 / 11\n",
      "\n",
      "CDK2\n",
      "6 / 16\n",
      "\n",
      "Tyk2\n",
      "0 / 16\n",
      "\n",
      "Jnk1\n",
      "13 / 21\n",
      "System Jnk1 has enough molecules to run tests on\n",
      "Indices: [0, 1, 2, 4, 5, 6, 9, 10, 14, 15, 16, 17, 18]\n",
      "Charge on ligands: {0}\n",
      "\n",
      "PTP1B\n",
      "0 / 23\n",
      "\n",
      "MCL1\n",
      "16 / 42\n",
      "System MCL1 has enough molecules to run tests on\n",
      "Indices: [0, 1, 3, 8, 9, 12, 14, 16, 21, 26, 30, 31, 32, 37, 38, 41]\n",
      "Charge on ligands: {-1}\n",
      "\n",
      "p38\n",
      "1 / 34\n",
      "\n"
     ]
    }
   ],
   "source": [
    "for name,molecules in target.items():\n",
    "    print(name)\n",
    "    total = len(molecules)\n",
    "    useable_molecules = []\n",
    "    for index, mol in enumerate(molecules):\n",
    "        if is_ani_CNOH(mol):\n",
    "            useable_molecules.append(index)\n",
    "    print(f'{len(useable_molecules)} / {total}')\n",
    "    if len(useable_molecules) >= 10:\n",
    "        print(f'System {name} has enough molecules to run tests on')\n",
    "        print(f'Indices: {useable_molecules}')\n",
    "        print(f'Charge on ligands: {set([oechem.OENetCharge(molecules[i]) for i in useable_molecules])}')\n",
    "    print()"
   ]
  },
  {
   "cell_type": "code",
   "execution_count": null,
   "metadata": {},
   "outputs": [],
   "source": []
  }
 ],
 "metadata": {
  "kernelspec": {
   "display_name": "Python 3",
   "language": "python",
   "name": "python3"
  },
  "language_info": {
   "codemirror_mode": {
    "name": "ipython",
    "version": 3
   },
   "file_extension": ".py",
   "mimetype": "text/x-python",
   "name": "python",
   "nbconvert_exporter": "python",
   "pygments_lexer": "ipython3",
   "version": "3.6.8"
  }
 },
 "nbformat": 4,
 "nbformat_minor": 2
}
