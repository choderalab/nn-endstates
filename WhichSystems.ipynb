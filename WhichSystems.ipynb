{
 "cells": [
  {
   "cell_type": "code",
   "execution_count": 15,
   "metadata": {},
   "outputs": [],
   "source": [
    "import numpy as np\n",
    "import os\n",
    "from perses.utils.openeye import createOEMolFromSDF\n",
    "from openeye import oechem\n",
    "from openforcefield.topology import Molecule"
   ]
  },
  {
   "cell_type": "code",
   "execution_count": 44,
   "metadata": {
    "scrolled": true
   },
   "outputs": [
    {
     "name": "stderr",
     "output_type": "stream",
     "text": [
      "WARNING:openforcefield.utils.toolkits:Warning (not error because allow_undefined_stereo=True): OEMol has unspecified stereochemistry. oemol.GetTitle(): 31\n",
      "Problematic atoms are:\n",
      "Atom atomic num: 16, name: , idx: 44, aromatic: False, chiral: True with bonds:\n",
      "bond order: 1, chiral: False to atom atomic num: 6, name: , idx: 10, aromatic: True, chiral: False\n",
      "bond order: 2, chiral: False to atom atomic num: 8, name: , idx: 45, aromatic: False, chiral: False\n",
      "bond order: 1, chiral: False to atom atomic num: 6, name: , idx: 46, aromatic: False, chiral: False\n",
      "\n"
     ]
    }
   ],
   "source": [
    "ligand_files = [x for x in os.listdir('data') if x[-4:] == '.sdf']\n",
    "\n",
    "\n",
    "target = {}\n",
    "\n",
    "for ligand_file in ligand_files:\n",
    "    molecules = Molecule.from_file(f'data/{ligand_file}',allow_undefined_stereo=True)\n",
    "    target[ligand_file.split('_')[0]] = molecules\n",
    "    "
   ]
  },
  {
   "cell_type": "code",
   "execution_count": 46,
   "metadata": {},
   "outputs": [],
   "source": [
    "def is_ani1(mol):\n",
    "    \"\"\"\n",
    "    Checks that molecule only contains CNOH atoms, for use with NN potentials\n",
    "    Parameters\n",
    "    ----------\n",
    "    mol : oechem.oemol\n",
    "        molecule to check\n",
    "    Returns\n",
    "    -------\n",
    "    bool : \n",
    "        True if only CNOH, False otherwise\n",
    "    \"\"\"\n",
    "    for atom in mol.atoms:\n",
    "        if atom.element.name in ['carbon','nitrogen','hydrogen','oxygen']:\n",
    "            continue\n",
    "        else:\n",
    "            return False\n",
    "    return True\n",
    "\n",
    "def is_ani2(mol):\n",
    "    \"\"\"\n",
    "    Checks that molecule only contains CNOH atoms, for use with NN potentials\n",
    "    Parameters\n",
    "    ----------\n",
    "    mol : oechem.oemol\n",
    "        molecule to check\n",
    "    Returns\n",
    "    -------\n",
    "    bool : \n",
    "        True if only CNOHSClF, False otherwise\n",
    "    \"\"\"\n",
    "    for atom in mol.atoms:\n",
    "        if atom.element.name in ['carbon','nitrogen','hydrogen','oxygen','sulfur','chlorine','fluorine']:\n",
    "            continue\n",
    "        else:\n",
    "            return False\n",
    "    return True"
   ]
  },
  {
   "cell_type": "code",
   "execution_count": 54,
   "metadata": {
    "scrolled": false
   },
   "outputs": [
    {
     "name": "stdout",
     "output_type": "stream",
     "text": [
      "Bace\n",
      "17 / 36\n",
      "System Bace has enough molecules to run tests on\n",
      "Indices: [2, 4, 6, 12, 14, 16, 17, 18, 20, 21, 24, 26, 27, 29, 31, 34, 35]\n",
      "Charge on ligands: {1.0}\n",
      "\n",
      "Thrombin\n",
      "4 / 11\n",
      "System Thrombin has enough molecules to run tests on\n",
      "Indices: [2, 5, 6, 7]\n",
      "Charge on ligands: {1.0}\n",
      "\n",
      "CDK2\n",
      "6 / 16\n",
      "System CDK2 has enough molecules to run tests on\n",
      "Indices: [2, 3, 8, 9, 12, 15]\n",
      "Charge on ligands: {0.0}\n",
      "\n",
      "Tyk2\n",
      "0 / 16\n",
      "\n",
      "Jnk1\n",
      "13 / 21\n",
      "System Jnk1 has enough molecules to run tests on\n",
      "Indices: [0, 1, 2, 4, 5, 6, 9, 10, 14, 15, 16, 17, 18]\n",
      "Charge on ligands: {0.0}\n",
      "\n",
      "PTP1B\n",
      "0 / 23\n",
      "\n",
      "MCL1\n",
      "16 / 42\n",
      "System MCL1 has enough molecules to run tests on\n",
      "Indices: [0, 1, 3, 8, 9, 12, 14, 16, 21, 26, 30, 31, 32, 37, 38, 41]\n",
      "Charge on ligands: {-1.0}\n",
      "\n",
      "p38\n",
      "1 / 34\n",
      "\n",
      "28.140704\n"
     ]
    }
   ],
   "source": [
    "ani1_compatible = 0\n",
    "all_molecules = 0\n",
    "\n",
    "for name,molecules in target.items():\n",
    "    print(name)\n",
    "    total = len(molecules)\n",
    "    useable_molecules = []\n",
    "    for index, mol in enumerate(molecules):\n",
    "        if is_ani1(mol):\n",
    "            useable_molecules.append(index)\n",
    "    print(f'{len(useable_molecules)} / {total}')\n",
    "    if len(useable_molecules) >= 3:\n",
    "        print(f'System {name} has enough molecules to run tests on')\n",
    "        print(f'Indices: {useable_molecules}')\n",
    "        print(f'Charge on ligands: {set([molecules[i].total_charge._value for i in useable_molecules])}')\n",
    "        ani1_compatible += len(useable_molecules)\n",
    "    all_molecules += len(molecules)\n",
    "    print()\n",
    "    \n",
    "print(f'{100*ani1_compatible / all_molecules:2f}')"
   ]
  },
  {
   "cell_type": "code",
   "execution_count": 55,
   "metadata": {},
   "outputs": [
    {
     "name": "stdout",
     "output_type": "stream",
     "text": [
      "Bace\n",
      "36 / 36\n",
      "System Bace has enough molecules to run tests on\n",
      "Indices: [0, 1, 2, 3, 4, 5, 6, 7, 8, 9, 10, 11, 12, 13, 14, 15, 16, 17, 18, 19, 20, 21, 22, 23, 24, 25, 26, 27, 28, 29, 30, 31, 32, 33, 34, 35]\n",
      "Charge on ligands: {1.0}\n",
      "\n",
      "Thrombin\n",
      "9 / 11\n",
      "System Thrombin has enough molecules to run tests on\n",
      "Indices: [0, 2, 3, 4, 5, 6, 7, 8, 9]\n",
      "Charge on ligands: {1.0}\n",
      "\n",
      "CDK2\n",
      "15 / 16\n",
      "System CDK2 has enough molecules to run tests on\n",
      "Indices: [0, 1, 2, 3, 4, 5, 6, 7, 8, 9, 10, 11, 12, 13, 15]\n",
      "Charge on ligands: {0.0}\n",
      "\n",
      "Tyk2\n",
      "16 / 16\n",
      "System Tyk2 has enough molecules to run tests on\n",
      "Indices: [0, 1, 2, 3, 4, 5, 6, 7, 8, 9, 10, 11, 12, 13, 14, 15]\n",
      "Charge on ligands: {0.0}\n",
      "\n",
      "Jnk1\n",
      "19 / 21\n",
      "System Jnk1 has enough molecules to run tests on\n",
      "Indices: [0, 1, 2, 3, 4, 5, 6, 8, 9, 10, 11, 12, 13, 14, 15, 16, 17, 18, 20]\n",
      "Charge on ligands: {0.0}\n",
      "\n",
      "PTP1B\n",
      "3 / 23\n",
      "System PTP1B has enough molecules to run tests on\n",
      "Indices: [5, 16, 20]\n",
      "Charge on ligands: {-2.0}\n",
      "\n",
      "MCL1\n",
      "42 / 42\n",
      "System MCL1 has enough molecules to run tests on\n",
      "Indices: [0, 1, 2, 3, 4, 5, 6, 7, 8, 9, 10, 11, 12, 13, 14, 15, 16, 17, 18, 19, 20, 21, 22, 23, 24, 25, 26, 27, 28, 29, 30, 31, 32, 33, 34, 35, 36, 37, 38, 39, 40, 41]\n",
      "Charge on ligands: {-1.0}\n",
      "\n",
      "p38\n",
      "34 / 34\n",
      "System p38 has enough molecules to run tests on\n",
      "Indices: [0, 1, 2, 3, 4, 5, 6, 7, 8, 9, 10, 11, 12, 13, 14, 15, 16, 17, 18, 19, 20, 21, 22, 23, 24, 25, 26, 27, 28, 29, 30, 31, 32, 33]\n",
      "Charge on ligands: {0.0}\n",
      "\n",
      "87.437186\n"
     ]
    }
   ],
   "source": [
    "ani2_compatible = 0\n",
    "# all_molecules = 0\n",
    "for name,molecules in target.items():\n",
    "    print(name)\n",
    "    total = len(molecules)\n",
    "    useable_molecules = []\n",
    "    for index, mol in enumerate(molecules):\n",
    "        if is_ani2(mol):\n",
    "            useable_molecules.append(index)\n",
    "    print(f'{len(useable_molecules)} / {total}')\n",
    "    if len(useable_molecules) >= 3:\n",
    "        print(f'System {name} has enough molecules to run tests on')\n",
    "        print(f'Indices: {useable_molecules}')\n",
    "        print(f'Charge on ligands: {set([molecules[i].total_charge._value for i in useable_molecules])}')\n",
    "        ani2_compatible += len(useable_molecules)\n",
    "#     all_molecules += len(molecules)\n",
    "    print()\n",
    "    \n",
    "print(f'{100*ani2_compatible / all_molecules:2f}')"
   ]
  },
  {
   "cell_type": "code",
   "execution_count": null,
   "metadata": {},
   "outputs": [],
   "source": []
  }
 ],
 "metadata": {
  "kernelspec": {
   "display_name": "Python 3",
   "language": "python",
   "name": "python3"
  },
  "language_info": {
   "codemirror_mode": {
    "name": "ipython",
    "version": 3
   },
   "file_extension": ".py",
   "mimetype": "text/x-python",
   "name": "python",
   "nbconvert_exporter": "python",
   "pygments_lexer": "ipython3",
   "version": "3.6.8"
  }
 },
 "nbformat": 4,
 "nbformat_minor": 2
}
